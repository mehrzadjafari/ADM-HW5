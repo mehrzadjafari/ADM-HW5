{
 "cells": [
  {
   "cell_type": "code",
   "execution_count": null,
   "metadata": {},
   "outputs": [],
   "source": []
  },
  {
   "cell_type": "code",
   "execution_count": null,
   "metadata": {},
   "outputs": [],
   "source": []
  },
  {
   "cell_type": "code",
   "execution_count": null,
   "metadata": {},
   "outputs": [],
   "source": []
  },
  {
   "cell_type": "code",
   "execution_count": null,
   "metadata": {},
   "outputs": [],
   "source": []
  },
  {
   "cell_type": "code",
   "execution_count": null,
   "metadata": {},
   "outputs": [],
   "source": []
  },
  {
   "cell_type": "code",
   "execution_count": null,
   "metadata": {},
   "outputs": [],
   "source": []
  },
  {
   "cell_type": "code",
   "execution_count": null,
   "metadata": {},
   "outputs": [],
   "source": []
  },
  {
   "cell_type": "code",
   "execution_count": null,
   "metadata": {},
   "outputs": [],
   "source": []
  },
  {
   "cell_type": "code",
   "execution_count": null,
   "metadata": {},
   "outputs": [],
   "source": []
  },
  {
   "cell_type": "markdown",
   "metadata": {},
   "source": [
    "### RQ4"
   ]
  },
  {
   "cell_type": "markdown",
   "metadata": {},
   "source": [
    "Given in input two categories: $C_1$ and $C_2$, we get the subgraph induced by all the articles in the two categories.\n"
   ]
  },
  {
   "cell_type": "code",
   "execution_count": null,
   "metadata": {},
   "outputs": [],
   "source": [
    "def create_subgraph(G, chosen_categories, c1 = 34, c2 = 646, random_pick = False):\n",
    "    \n",
    "    \"\"\"\n",
    "    The function creates a subgraph by using 2 category indexes determined in the input.\n",
    "    \n",
    "    Inputs:\n",
    "    G (graph): The main graph\n",
    "    chosen_categories (dataframe): The dataframe of categories and their corresponded nodes\n",
    "    c1 (int): index of the first category. Default at 34\n",
    "    c2 (int): index of the second category. Default at 646\n",
    "    random_pick (bool): Whether to take the categories by random. Default set to False\n",
    "    \n",
    "    Returns:\n",
    "    sub_G (graph): The subgraph created using the nodes of two categories out of the main graph (G)\n",
    "    \n",
    "    \"\"\"\n",
    "    \n",
    "    if random_pick:\n",
    "        c1, c2 = np.random.randint(0,870,2)\n",
    "        \n",
    "    c1_cat = chosen_categories.iloc[c1][0]\n",
    "    c2_cat = chosen_categories.iloc[c2][0]\n",
    "    c1_nodes = chosen_categories.iloc[c1][1]\n",
    "    c2_nodes = chosen_categories.iloc[c2][1]\n",
    "    \n",
    "    print(\"The first category is '\" + c1_cat + \"' Index: \" + str(c1) + \" \\nThe second one is '\" + c2_cat + \"' Index: \" + str(c2) )\n",
    "    c1c2_nodes = np.concatenate([c1_nodes,c2_nodes])\n",
    "    \n",
    "    return G.subgraph(c1c2_nodes)"
   ]
  },
  {
   "cell_type": "code",
   "execution_count": null,
   "metadata": {},
   "outputs": [],
   "source": [
    "def create_subgraph(G, chosen_categories, c1 = 34, c2 = 646, random_pick = False):\n",
    "    \n",
    "    \"\"\"\n",
    "    The function creates a subgraph by using 2 category indexes determined in the input.\n",
    "    \n",
    "    Inputs:\n",
    "    G (graph): The main graph\n",
    "    chosen_categories (dataframe): The dataframe of categories and their corresponded nodes\n",
    "    c1 (int): index of the first category. Default at 34\n",
    "    c2 (int): index of the second category. Default at 646\n",
    "    random_pick (bool): Whether to take the categories by random. Default set to False\n",
    "    \n",
    "    Returns:\n",
    "    sub_G (graph): The subgraph created using the nodes of two categories out of the main graph (G)\n",
    "    \n",
    "    \"\"\"\n",
    "    \n",
    "    if random_pick:\n",
    "        c1, c2 = np.random.randint(0,870,2)\n",
    "        \n",
    "    c1_cat = chosen_categories.iloc[c1][0]\n",
    "    c2_cat = chosen_categories.iloc[c2][0]\n",
    "    c1_nodes = chosen_categories.iloc[c1][1]\n",
    "    c2_nodes = chosen_categories.iloc[c2][1]\n",
    "    \n",
    "    print(\"The first category is '\" + c1_cat + \"' Index: \" + str(c1) + \" \\nThe second one is '\" + c2_cat + \"' Index: \" + str(c2) )\n",
    "    c1c2_nodes = np.concatenate([c1_nodes,c2_nodes])\n",
    "    sub_G = G.copy()\n",
    "    for i in list(sub_G.nodes):\n",
    "        if i not in c1c2_nodes:\n",
    "            sub_G.remove_node(i)\n",
    "    \n",
    "    return sub_G"
   ]
  },
  {
   "cell_type": "code",
   "execution_count": 288,
   "metadata": {},
   "outputs": [
    {
     "name": "stdout",
     "output_type": "stream",
     "text": [
      "The first category is 'Italian_footballers' Index: 34 \n",
      "The second one is 'Companions_of_the_Order_of_St_Michael_and_St_George' Index: 646\n"
     ]
    }
   ],
   "source": [
    "sub_G = create_subgraph(wiki_reduced, chosen_categories, random_pick=False)"
   ]
  },
  {
   "cell_type": "markdown",
   "metadata": {},
   "source": [
    "* Let $v$ and $u$ two arbitrary pages in the subgraph. What is the minimum set of hyperlinks one can remove to disconnect $u$ and $v$ ?\n"
   ]
  },
  {
   "cell_type": "code",
   "execution_count": null,
   "metadata": {},
   "outputs": [],
   "source": [
    "def min_remove_hyperlinks(G, source_node, target_node):\n",
    "    \n",
    "    \"\"\"\n",
    "    The function calculates the paths from 'source node' to 'target node' in a graph and determines how many cuts are needed to disconnect them\n",
    "    \n",
    "    Inputs:\n",
    "    G (Graph): The graph that we are working with\n",
    "    source_node (int): The source node\n",
    "    target_node (int): The target node\n",
    "    \n",
    "    \n",
    "    Returns:\n",
    "    Number of cuts required for the disconnection (if available)\n",
    "    The edges which have to get removed to make sure two nodes would be disconnected\n",
    "    \n",
    "    \"\"\"\n",
    "    \n",
    "    if source_node not in G.nodes:\n",
    "        return(\"The source node is not in the graph\")\n",
    "    \n",
    "    elif target_node not in G.nodes:\n",
    "        return(\"The target node is not in the graph\")\n",
    "    \n",
    "    else:\n",
    "    \n",
    "        cuts_count = 0\n",
    "        path_list = []\n",
    "        n = len(G) - 1\n",
    "        checked = [source_node]\n",
    "        collected_nodes = [(target for source, target in G.edges(source_node))]\n",
    "        while collected_nodes:\n",
    "            collected_groups = collected_nodes[-1]\n",
    "            iterator_collected = next(collected_groups, None)\n",
    "            if iterator_collected is None:\n",
    "                collected_nodes.pop()\n",
    "                checked.pop()\n",
    "            elif len(checked) < n:\n",
    "                if iterator_collected == target_node:\n",
    "\n",
    "                    path_list.append(checked + [target_node])\n",
    "\n",
    "                elif iterator_collected not in checked:\n",
    "                    checked.append(iterator_collected)\n",
    "                    collected_nodes.append((target for source, target in G.edges(iterator_collected)))\n",
    "            else: #len(checked) == n:\n",
    "                count = ([iterator_collected]+list(collected_groups)).count(target_node)\n",
    "                for i in range(count):\n",
    "\n",
    "                    path_list.append(checked + [target_node])\n",
    "\n",
    "                collected_nodes.pop()\n",
    "                checked.pop()\n",
    "\n",
    "        if path_list == []:\n",
    "\n",
    "            return(\"Source and Target are disconnected\")\n",
    "\n",
    "        else:\n",
    "            results = []\n",
    "            for path in path_list:\n",
    "\n",
    "                (a,b) = path[0], path[1]\n",
    "                if (a,b) not in results:\n",
    "                    results.append((a,b))\n",
    "                    cuts_count += 1\n",
    "            print(\"You need \" + str(cuts_count) + \" cuts to disconnect them!\\n\\nThe List of hyperlinks to cut:\")\n",
    "            return(results)"
   ]
  },
  {
   "cell_type": "code",
   "execution_count": 292,
   "metadata": {},
   "outputs": [
    {
     "name": "stdout",
     "output_type": "stream",
     "text": [
      "You need 3 cuts to disconnect them!\n",
      "\n",
      "The List of hyperlinks to cut:\n",
      "[(436236, 436233), (436236, 436235), (436236, 436237)]\n"
     ]
    }
   ],
   "source": [
    "print(min_remove_hyperlinks(sub_G, source_node= 436236 , target_node = 436233))"
   ]
  },
  {
   "cell_type": "code",
   "execution_count": null,
   "metadata": {},
   "outputs": [],
   "source": []
  },
  {
   "cell_type": "code",
   "execution_count": null,
   "metadata": {},
   "outputs": [],
   "source": []
  },
  {
   "cell_type": "code",
   "execution_count": null,
   "metadata": {},
   "outputs": [],
   "source": []
  }
 ],
 "metadata": {
  "kernelspec": {
   "display_name": "Python 3",
   "language": "python",
   "name": "python3"
  },
  "language_info": {
   "codemirror_mode": {
    "name": "ipython",
    "version": 3
   },
   "file_extension": ".py",
   "mimetype": "text/x-python",
   "name": "python",
   "nbconvert_exporter": "python",
   "pygments_lexer": "ipython3",
   "version": "3.7.6"
  }
 },
 "nbformat": 4,
 "nbformat_minor": 4
}
